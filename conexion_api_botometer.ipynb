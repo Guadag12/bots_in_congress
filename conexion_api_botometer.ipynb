{
 "cells": [
  {
   "cell_type": "code",
   "execution_count": 4,
   "metadata": {},
   "outputs": [],
   "source": [
    "#Importamos librerias correspondientes:\n",
    "import pandas as pd\n",
    "import numpy as np\n",
    "import botometer\n",
    "import csv"
   ]
  },
  {
   "cell_type": "code",
   "execution_count": null,
   "metadata": {},
   "outputs": [],
   "source": [
    "rapidapi_key = \"xxxxxxxxxxxxxxxxxxxxxxxxxxxxxxxxxxxxxxxxxxxxxxxxxx\" # escribimos la key que devuelve la API de rapidapi\n",
    "#(https://rapidapi.com/) p/ cada usuario - acá nos podemos conectar con la API de Botometer"
   ]
  },
  {
   "cell_type": "code",
   "execution_count": null,
   "metadata": {},
   "outputs": [],
   "source": [
    " #nos conectamos a la API de Twitter (https://developer.twitter.com/)\n",
    "twitter_app_auth = {                     \n",
    "    'consumer_key': 'xxxxxxxxxxxxxxxxxxxxxxxxx',\n",
    "    'consumer_secret': 'xxxxxxxxxxxxxxxxxxxxxxxxxxxxxxxxxxxxxxxxxxxxxxxxxx',\n",
    "    'access_token': 'xxxxxxxxxx-xxxxxxxxxxxxxxxxxxxxxxxxxxxxxxxxxxxxxxx',\n",
    "    'access_token_secret': 'xxxxxxxxxxxxxxxxxxxxxxxxxxxxxxxxxxxxxxxxxxxxx',\n",
    "  }"
   ]
  },
  {
   "cell_type": "code",
   "execution_count": 10,
   "metadata": {},
   "outputs": [],
   "source": [
    "#conectamos la API de rapid api, Twitter con Botometer\n",
    "bom = botometer.Botometer(wait_on_ratelimit=True,\n",
    "                          rapidapi_key=rapidapi_key,\n",
    "                          **twitter_app_auth)"
   ]
  },
  {
   "cell_type": "markdown",
   "metadata": {},
   "source": [
    "## MUESTRA 2016"
   ]
  },
  {
   "cell_type": "code",
   "execution_count": 15,
   "metadata": {},
   "outputs": [],
   "source": [
    "#cargamos el csv con nuestra lista de usuarios a analizar:\n",
    "data = pd.read_csv(\"muestra_2016.csv\", encoding = 'latin-1')"
   ]
  },
  {
   "cell_type": "code",
   "execution_count": null,
   "metadata": {},
   "outputs": [],
   "source": [
    "#le pedimos a la API que asigne la probabilidad a cada usuario\n",
    "\n",
    "data_bot = []     \n",
    "\n",
    "for screen_name, result in bom.check_accounts_in(data['screenName']): \n",
    "    data_bot.append([result])\n",
    "    bot_data = pd.DataFrame(data_bot)  "
   ]
  },
  {
   "cell_type": "code",
   "execution_count": null,
   "metadata": {},
   "outputs": [],
   "source": [
    "#generamos un df con las columnas de \"usuario\" y \"probabilidad de ser bot\"\n",
    "\n",
    "universal=[]\n",
    "screen_name=[]\n",
    "for i in data_bot:\n",
    "    try:\n",
    "        universal.append(float(i[0]['scores']['universal']))\n",
    "        screen_name.append(str(i[0]['user']['screen_name']))\n",
    "    except:\n",
    "        universal.append('no hay dato o no es str')\n",
    "        screen_name.append('no hay dato o no es str')\n",
    "        \n",
    "user_score=pd.DataFrame({'screen_name':screen_name, 'universal':universal}, columns=['screen_name', 'universal'])\n",
    "user_score"
   ]
  },
  {
   "cell_type": "code",
   "execution_count": null,
   "metadata": {},
   "outputs": [],
   "source": [
    "##descargamos el csv 2016\n",
    "\n",
    "user_score.to_csv('muestra_2016_procesada.csv', index=False)"
   ]
  },
  {
   "cell_type": "markdown",
   "metadata": {},
   "source": [
    "## MUESTRA 2020"
   ]
  },
  {
   "cell_type": "code",
   "execution_count": 19,
   "metadata": {},
   "outputs": [],
   "source": [
    "#cargamos el csv con nuestra lista de usuarios a analizar:\n",
    "data = pd.read_csv(\"muestra_2020.csv\", encoding = 'latin-1')"
   ]
  },
  {
   "cell_type": "code",
   "execution_count": null,
   "metadata": {},
   "outputs": [],
   "source": [
    "#le pedimos a la API que asigne la probabilidad a cada usuario\n",
    "    \n",
    "data_bot = []    \n",
    "\n",
    "for screen_name, result in bom.check_accounts_in(data['screenName']): \n",
    "    data_bot.append([result])\n",
    "    bot_data = pd.DataFrame(data_bot)  "
   ]
  },
  {
   "cell_type": "code",
   "execution_count": null,
   "metadata": {},
   "outputs": [],
   "source": [
    "#generamos un df con las columnas de \"usuario\" y \"probabilidad de ser bot\"\n",
    "\n",
    "universal=[]\n",
    "screen_name=[]\n",
    "for i in data_bot:\n",
    "    try:\n",
    "        universal.append(float(i[0]['scores']['universal']))\n",
    "        screen_name.append(str(i[0]['user']['screen_name']))\n",
    "    except:\n",
    "        universal.append('no hay dato o no es str')\n",
    "        screen_name.append('no hay dato o no es str')\n",
    "        \n",
    "user_score=pd.DataFrame({'screen_name':screen_name, 'universal':universal}, columns=['screen_name', 'universal'])\n",
    "user_score"
   ]
  },
  {
   "cell_type": "code",
   "execution_count": null,
   "metadata": {},
   "outputs": [],
   "source": [
    "##descargamos el csv 2020\n",
    "\n",
    "user_score.to_csv('muestra_2020_procesada.csv', index=False)"
   ]
  }
 ],
 "metadata": {
  "kernelspec": {
   "display_name": "Python 3",
   "language": "python",
   "name": "python3"
  },
  "language_info": {
   "codemirror_mode": {
    "name": "ipython",
    "version": 3
   },
   "file_extension": ".py",
   "mimetype": "text/x-python",
   "name": "python",
   "nbconvert_exporter": "python",
   "pygments_lexer": "ipython3",
   "version": "3.7.3"
  }
 },
 "nbformat": 4,
 "nbformat_minor": 2
}
