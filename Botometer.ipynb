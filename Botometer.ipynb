{
 "cells": [
  {
   "cell_type": "code",
   "execution_count": 4,
   "metadata": {},
   "outputs": [],
   "source": [
    "#Importamos librerias correspondientes:\n",
    "import pandas as pd\n",
    "import numpy as np\n",
    "import botometer\n",
    "import csv"
   ]
  },
  {
   "cell_type": "code",
   "execution_count": null,
   "metadata": {},
   "outputs": [],
   "source": [
    "rapidapi_key = \"xxxxxxxxxxxxxxxxxxxxxxxxxxxxxxxxxxxxxxxxxxxxxxxxxx\" # escribimos la key que devuelve la API de rapidapi\n",
    "#(https://rapidapi.com/) p/ cada usuario - acá nos podemos conectar con la API de Botometer"
   ]
  },
  {
   "cell_type": "code",
   "execution_count": null,
   "metadata": {},
   "outputs": [],
   "source": [
    " #nos conectamos a la API de Twitter (https://developer.twitter.com/)\n",
    "twitter_app_auth = {                     \n",
    "    'consumer_key': 'xxxxxxxxxxxxxxxxxxxxxxxxx',\n",
    "    'consumer_secret': 'xxxxxxxxxxxxxxxxxxxxxxxxxxxxxxxxxxxxxxxxxxxxxxxxxx',\n",
    "    'access_token': 'xxxxxxxxxx-xxxxxxxxxxxxxxxxxxxxxxxxxxxxxxxxxxxxxxx',\n",
    "    'access_token_secret': 'xxxxxxxxxxxxxxxxxxxxxxxxxxxxxxxxxxxxxxxxxxxxx',\n",
    "  }"
   ]
  },
  {
   "cell_type": "code",
   "execution_count": 9,
   "metadata": {},
   "outputs": [],
   "source": [
    "rapidapi_key = \"d5eee089cdmshad05ae1e60f4969p1fe91bjsn6cd85dab2d63\" # escribimos la api key\n",
    "twitter_app_auth = {                      #nos conectamos a twitter\n",
    "    'consumer_key': 'c1ESC0DmMmBW8Xlh6L5CIRxCf',\n",
    "    'consumer_secret': 'Xfd4FaKoAmRXPe1ZdwyaFdFxTfL4dAjQadx15GOQB9L536zpqZ',\n",
    "    'access_token': '1670401616-8OgN0VexDFRIusAMU6XQn5qheb0ACWKQ1vebsiq',\n",
    "    'access_token_secret': '3gv1OZJacS0Wb7lK1pSR0NnCMZvjeA2wUoltxSYgND3XS',\n",
    "  }\n",
    "\n",
    "bom = botometer.Botometer(wait_on_ratelimit=True,\n",
    "                          rapidapi_key=rapidapi_key,\n",
    "                          **twitter_app_auth)"
   ]
  },
  {
   "cell_type": "code",
   "execution_count": 10,
   "metadata": {},
   "outputs": [],
   "source": [
    "#conectamos la API de rapid api, Twitter con Botometer\n",
    "bom = botometer.Botometer(wait_on_ratelimit=True,\n",
    "                          rapidapi_key=rapidapi_key,\n",
    "                          **twitter_app_auth)"
   ]
  },
  {
   "cell_type": "markdown",
   "metadata": {},
   "source": [
    "## MUESTRA 2016"
   ]
  },
  {
   "cell_type": "code",
   "execution_count": 15,
   "metadata": {},
   "outputs": [],
   "source": [
    "#cargamos el csv con nuestra lista de usuarios a analizar:\n",
    "data = pd.read_csv(\"D:/Guada/sesiones2016/archivos_def/muestra_2016.csv\", encoding = 'latin-1')"
   ]
  },
  {
   "cell_type": "code",
   "execution_count": null,
   "metadata": {},
   "outputs": [],
   "source": [
    "data_bot = []     #le pedimos a la API que asigne la probabilidad a cada usuario\n",
    "\n",
    "for screen_name, result in bom.check_accounts_in(data['screenName']): \n",
    "    data_bot.append([result])\n",
    "    bot_data = pd.DataFrame(data_bot)  "
   ]
  },
  {
   "cell_type": "code",
   "execution_count": null,
   "metadata": {},
   "outputs": [],
   "source": [
    "##descargamos el csv anidamos y en excel nos quedamos con la columna de \"screen_name\" y \"universal\" (scores)\n",
    "\n",
    "with open('C:/Users/Usuario/Desktop/Botornot/Apertura/muestra_2016_procesada.csv', 'w', newline='') as csvfile:\n",
    "    writer = csv.writer(csvfile)\n",
    "    writer.writerows(data_bot)"
   ]
  },
  {
   "cell_type": "markdown",
   "metadata": {},
   "source": [
    "## MUESTRA 2020"
   ]
  },
  {
   "cell_type": "code",
   "execution_count": 19,
   "metadata": {},
   "outputs": [],
   "source": [
    "#cargamos el csv con nuestra lista de usuarios a analizar:\n",
    "data = pd.read_csv(\"D:/Guada/sesiones2016/archivos_def/muestra_2020.csv\", encoding = 'latin-1')"
   ]
  },
  {
   "cell_type": "code",
   "execution_count": null,
   "metadata": {},
   "outputs": [],
   "source": [
    "data_bot = []     #le pedimos a la API que asigne la probabilidad a cada usuario\n",
    "\n",
    "for screen_name, result in bom.check_accounts_in(data['screenName']): \n",
    "    data_bot.append([result])\n",
    "    bot_data = pd.DataFrame(data_bot)  "
   ]
  },
  {
   "cell_type": "code",
   "execution_count": null,
   "metadata": {},
   "outputs": [],
   "source": [
    "##descargamos el csv anidamos y en excel nos quedamos con la columna de \"screen_name\" y \"universal\" (scores)\n",
    "\n",
    "with open('C:/Users/Usuario/Desktop/Botornot/Apertura/muestra_2020_procesada.csv', 'w', newline='') as csvfile:\n",
    "    \n",
    "    writer = csv.writer(csvfile)\n",
    "    writer.writerows(data_bot)"
   ]
  }
 ],
 "metadata": {
  "kernelspec": {
   "display_name": "Python 3",
   "language": "python",
   "name": "python3"
  },
  "language_info": {
   "codemirror_mode": {
    "name": "ipython",
    "version": 3
   },
   "file_extension": ".py",
   "mimetype": "text/x-python",
   "name": "python",
   "nbconvert_exporter": "python",
   "pygments_lexer": "ipython3",
   "version": "3.7.3"
  }
 },
 "nbformat": 4,
 "nbformat_minor": 2
}
